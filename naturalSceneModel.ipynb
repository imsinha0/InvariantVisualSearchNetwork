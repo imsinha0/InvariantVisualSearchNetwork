{
 "cells": [
  {
   "cell_type": "code",
   "id": "initial_id",
   "metadata": {
    "collapsed": true,
    "ExecuteTime": {
     "end_time": "2025-01-08T23:22:49.378886Z",
     "start_time": "2025-01-08T23:22:49.367668Z"
    }
   },
   "source": [
    "%load_ext autoreload\n",
    "%autoreload 2"
   ],
   "outputs": [],
   "execution_count": 1
  },
  {
   "metadata": {
    "ExecuteTime": {
     "end_time": "2025-01-08T23:22:56.394850Z",
     "start_time": "2025-01-08T23:22:55.007051Z"
    }
   },
   "cell_type": "code",
   "source": [
    "import torch\n",
    "import torch.nn as nn\n",
    "from torch.nn.modules.conv import Conv2d\n",
    "from torchvision import transforms"
   ],
   "id": "fdfe1b95d125a3c6",
   "outputs": [
    {
     "name": "stderr",
     "output_type": "stream",
     "text": [
      "/Users/ishaan/miniconda3/envs/VisualSearch/lib/python3.11/site-packages/torchvision/io/image.py:13: UserWarning: Failed to load image Python extension: 'dlopen(/Users/ishaan/miniconda3/envs/VisualSearch/lib/python3.11/site-packages/torchvision/image.so, 0x0006): Symbol not found: __ZN3c1017RegisterOperatorsD1Ev\n",
      "  Referenced from: <CFED5F8E-EC3F-36FD-AAA3-2C6C7F8D3DD9> /Users/ishaan/miniconda3/envs/VisualSearch/lib/python3.11/site-packages/torchvision/image.so\n",
      "  Expected in:     <8E6D6BF5-9658-33B9-9D3C-DF587B2F99E7> /Users/ishaan/miniconda3/envs/VisualSearch/lib/python3.11/site-packages/torch/lib/libtorch_cpu.dylib'If you don't plan on using image functionality from `torchvision.io`, you can ignore this warning. Otherwise, there might be something wrong with your environment. Did you have `libjpeg` or `libpng` installed before building `torchvision` from source?\n",
      "  warn(\n"
     ]
    }
   ],
   "execution_count": 2
  },
  {
   "metadata": {
    "ExecuteTime": {
     "end_time": "2025-01-08T23:31:58.037268Z",
     "start_time": "2025-01-08T23:31:57.996849Z"
    }
   },
   "cell_type": "code",
   "source": [
    "class IVSN(nn.Module):\n",
    "  def __init__(self, model):\n",
    "      super(IVSN, self).__init__()\n",
    "      self.features = nn.Sequential(*list(model.children())[0][:30])\n",
    "      for param in self.features.parameters():\n",
    "        param.requires_grad_ = False\n",
    "\n",
    "  def forward(self, x):\n",
    "      x = self.features(x)\n",
    "      return x\n",
    "\n",
    "ConvSize, NumTemplates, Mylayer = 1, 512, 31\n",
    "TotalTrials, targetsize, stimulisize = 240, (640, 480), (1280, 1024)\n",
    "MMconv = Conv2d(NumTemplates, 1, kernel_size = (ConvSize, ConvSize), stride = (1, 1), padding = (1, 1))\n",
    "# 512 input channels, 1 output channel, 1x1 kernel, stride 1, padding 1"
   ],
   "id": "c8701266525ccaa9",
   "outputs": [],
   "execution_count": 5
  },
  {
   "metadata": {
    "ExecuteTime": {
     "end_time": "2025-01-08T23:27:01.513343Z",
     "start_time": "2025-01-08T23:27:00.544692Z"
    }
   },
   "cell_type": "code",
   "source": [
    "from torchvision.models import VGG16_Weights\n",
    "\n",
    "model_vgg = torch.hub.load('pytorch/vision:v0.10.0', 'vgg16', weights=VGG16_Weights.DEFAULT)\n",
    "model_ivsn = IVSN(model_vgg)\n",
    "model_ivsn"
   ],
   "id": "95cca5f3d69f1568",
   "outputs": [
    {
     "name": "stderr",
     "output_type": "stream",
     "text": [
      "Using cache found in /Users/ishaan/.cache/torch/hub/pytorch_vision_v0.10.0\n"
     ]
    },
    {
     "data": {
      "text/plain": [
       "IVSN(\n",
       "  (features): Sequential(\n",
       "    (0): Conv2d(3, 64, kernel_size=(3, 3), stride=(1, 1), padding=(1, 1))\n",
       "    (1): ReLU(inplace=True)\n",
       "    (2): Conv2d(64, 64, kernel_size=(3, 3), stride=(1, 1), padding=(1, 1))\n",
       "    (3): ReLU(inplace=True)\n",
       "    (4): MaxPool2d(kernel_size=2, stride=2, padding=0, dilation=1, ceil_mode=False)\n",
       "    (5): Conv2d(64, 128, kernel_size=(3, 3), stride=(1, 1), padding=(1, 1))\n",
       "    (6): ReLU(inplace=True)\n",
       "    (7): Conv2d(128, 128, kernel_size=(3, 3), stride=(1, 1), padding=(1, 1))\n",
       "    (8): ReLU(inplace=True)\n",
       "    (9): MaxPool2d(kernel_size=2, stride=2, padding=0, dilation=1, ceil_mode=False)\n",
       "    (10): Conv2d(128, 256, kernel_size=(3, 3), stride=(1, 1), padding=(1, 1))\n",
       "    (11): ReLU(inplace=True)\n",
       "    (12): Conv2d(256, 256, kernel_size=(3, 3), stride=(1, 1), padding=(1, 1))\n",
       "    (13): ReLU(inplace=True)\n",
       "    (14): Conv2d(256, 256, kernel_size=(3, 3), stride=(1, 1), padding=(1, 1))\n",
       "    (15): ReLU(inplace=True)\n",
       "    (16): MaxPool2d(kernel_size=2, stride=2, padding=0, dilation=1, ceil_mode=False)\n",
       "    (17): Conv2d(256, 512, kernel_size=(3, 3), stride=(1, 1), padding=(1, 1))\n",
       "    (18): ReLU(inplace=True)\n",
       "    (19): Conv2d(512, 512, kernel_size=(3, 3), stride=(1, 1), padding=(1, 1))\n",
       "    (20): ReLU(inplace=True)\n",
       "    (21): Conv2d(512, 512, kernel_size=(3, 3), stride=(1, 1), padding=(1, 1))\n",
       "    (22): ReLU(inplace=True)\n",
       "    (23): MaxPool2d(kernel_size=2, stride=2, padding=0, dilation=1, ceil_mode=False)\n",
       "    (24): Conv2d(512, 512, kernel_size=(3, 3), stride=(1, 1), padding=(1, 1))\n",
       "    (25): ReLU(inplace=True)\n",
       "    (26): Conv2d(512, 512, kernel_size=(3, 3), stride=(1, 1), padding=(1, 1))\n",
       "    (27): ReLU(inplace=True)\n",
       "    (28): Conv2d(512, 512, kernel_size=(3, 3), stride=(1, 1), padding=(1, 1))\n",
       "    (29): ReLU(inplace=True)\n",
       "  )\n",
       ")"
      ]
     },
     "execution_count": 4,
     "metadata": {},
     "output_type": "execute_result"
    }
   ],
   "execution_count": 4
  },
  {
   "metadata": {
    "ExecuteTime": {
     "end_time": "2025-01-08T23:50:55.301098Z",
     "start_time": "2025-01-08T23:50:55.254516Z"
    }
   },
   "cell_type": "code",
   "source": [
    "import importlib\n",
    "import naturalSceneDataset\n",
    "\n",
    "input_images = naturalSceneDataset.NaturalSceneDataset('data/naturaldesign/gt', 'data/naturaldesign/stimuli', 'data/naturaldesign/target', normalize_means=[0.485, 0.456, 0.406], normalize_stds=[0.229, 0.224, 0.225])"
   ],
   "id": "a4550c8bd4d00f7",
   "outputs": [],
   "execution_count": 9
  },
  {
   "metadata": {
    "ExecuteTime": {
     "end_time": "2025-01-08T23:50:56.221616Z",
     "start_time": "2025-01-08T23:50:56.143124Z"
    }
   },
   "cell_type": "code",
   "source": "print(input_images[0])",
   "id": "67c5c75a80836161",
   "outputs": [
    {
     "name": "stdout",
     "output_type": "stream",
     "text": [
      "(tensor([[[0.2078, 0.2078, 0.2118,  ..., 0.7059, 0.8118, 0.9176],\n",
      "         [0.2000, 0.2000, 0.1882,  ..., 0.7137, 0.8549, 0.9765],\n",
      "         [0.1725, 0.1686, 0.1529,  ..., 0.8196, 0.9490, 0.9882],\n",
      "         ...,\n",
      "         [0.0667, 0.0941, 0.1255,  ..., 0.4078, 0.5608, 0.6275],\n",
      "         [0.0667, 0.1059, 0.1216,  ..., 0.4039, 0.5176, 0.5922],\n",
      "         [0.0706, 0.1176, 0.1294,  ..., 0.3686, 0.4784, 0.6118]],\n",
      "\n",
      "        [[0.1686, 0.1647, 0.1686,  ..., 0.4784, 0.6196, 0.7490],\n",
      "         [0.1608, 0.1569, 0.1569,  ..., 0.4980, 0.6667, 0.8039],\n",
      "         [0.1412, 0.1373, 0.1255,  ..., 0.6000, 0.7333, 0.7804],\n",
      "         ...,\n",
      "         [0.0000, 0.0157, 0.0314,  ..., 0.7804, 0.8431, 0.8039],\n",
      "         [0.0000, 0.0196, 0.0275,  ..., 0.7843, 0.8000, 0.7765],\n",
      "         [0.0000, 0.0314, 0.0353,  ..., 0.7490, 0.7725, 0.7961]],\n",
      "\n",
      "        [[0.0706, 0.0784, 0.0980,  ..., 0.2902, 0.4941, 0.6745],\n",
      "         [0.0627, 0.0706, 0.0824,  ..., 0.3451, 0.5804, 0.7686],\n",
      "         [0.0510, 0.0549, 0.0549,  ..., 0.5098, 0.7137, 0.8118],\n",
      "         ...,\n",
      "         [0.0039, 0.0235, 0.0314,  ..., 0.8510, 0.9294, 0.9176],\n",
      "         [0.0000, 0.0275, 0.0275,  ..., 0.8510, 0.8863, 0.8863],\n",
      "         [0.0000, 0.0392, 0.0353,  ..., 0.8157, 0.8549, 0.9059]]]), tensor([[[1., 1., 1.,  ..., 1., 1., 1.],\n",
      "         [1., 1., 1.,  ..., 1., 1., 1.],\n",
      "         [1., 1., 1.,  ..., 1., 1., 1.],\n",
      "         ...,\n",
      "         [1., 1., 1.,  ..., 1., 1., 1.],\n",
      "         [1., 1., 1.,  ..., 1., 1., 1.],\n",
      "         [1., 1., 1.,  ..., 1., 1., 1.]],\n",
      "\n",
      "        [[1., 1., 1.,  ..., 1., 1., 1.],\n",
      "         [1., 1., 1.,  ..., 1., 1., 1.],\n",
      "         [1., 1., 1.,  ..., 1., 1., 1.],\n",
      "         ...,\n",
      "         [1., 1., 1.,  ..., 1., 1., 1.],\n",
      "         [1., 1., 1.,  ..., 1., 1., 1.],\n",
      "         [1., 1., 1.,  ..., 1., 1., 1.]],\n",
      "\n",
      "        [[1., 1., 1.,  ..., 1., 1., 1.],\n",
      "         [1., 1., 1.,  ..., 1., 1., 1.],\n",
      "         [1., 1., 1.,  ..., 1., 1., 1.],\n",
      "         ...,\n",
      "         [1., 1., 1.,  ..., 1., 1., 1.],\n",
      "         [1., 1., 1.,  ..., 1., 1., 1.],\n",
      "         [1., 1., 1.,  ..., 1., 1., 1.]]]), (240, 0, 359, 2))\n"
     ]
    }
   ],
   "execution_count": 10
  },
  {
   "metadata": {},
   "cell_type": "code",
   "outputs": [],
   "execution_count": null,
   "source": "",
   "id": "aaf9b9e291eee11c"
  }
 ],
 "metadata": {
  "kernelspec": {
   "display_name": "Python 3",
   "language": "python",
   "name": "python3"
  },
  "language_info": {
   "codemirror_mode": {
    "name": "ipython",
    "version": 2
   },
   "file_extension": ".py",
   "mimetype": "text/x-python",
   "name": "python",
   "nbconvert_exporter": "python",
   "pygments_lexer": "ipython2",
   "version": "2.7.6"
  }
 },
 "nbformat": 4,
 "nbformat_minor": 5
}
