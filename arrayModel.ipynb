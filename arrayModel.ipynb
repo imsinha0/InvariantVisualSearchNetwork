{
 "cells": [
  {
   "metadata": {
    "ExecuteTime": {
     "end_time": "2025-01-08T23:07:26.734210Z",
     "start_time": "2025-01-08T23:07:26.720327Z"
    }
   },
   "cell_type": "code",
   "source": [
    "%load_ext autoreload\n",
    "%autoreload 2"
   ],
   "id": "4d21e694dd4308b8",
   "outputs": [],
   "execution_count": 1
  },
  {
   "metadata": {
    "ExecuteTime": {
     "end_time": "2025-01-08T23:07:29.264732Z",
     "start_time": "2025-01-08T23:07:27.936252Z"
    }
   },
   "cell_type": "code",
   "source": [
    "import torch\n",
    "import torch.nn as nn\n",
    "from torch.nn.modules.conv import Conv2d\n",
    "from torchvision import transforms\n",
    "\n",
    "from tqdm import tqdm, trange"
   ],
   "id": "eeccea6b8fa67324",
   "outputs": [
    {
     "name": "stderr",
     "output_type": "stream",
     "text": [
      "/Users/ishaan/miniconda3/envs/VisualSearch/lib/python3.11/site-packages/torchvision/io/image.py:13: UserWarning: Failed to load image Python extension: 'dlopen(/Users/ishaan/miniconda3/envs/VisualSearch/lib/python3.11/site-packages/torchvision/image.so, 0x0006): Symbol not found: __ZN3c1017RegisterOperatorsD1Ev\n",
      "  Referenced from: <CFED5F8E-EC3F-36FD-AAA3-2C6C7F8D3DD9> /Users/ishaan/miniconda3/envs/VisualSearch/lib/python3.11/site-packages/torchvision/image.so\n",
      "  Expected in:     <8E6D6BF5-9658-33B9-9D3C-DF587B2F99E7> /Users/ishaan/miniconda3/envs/VisualSearch/lib/python3.11/site-packages/torch/lib/libtorch_cpu.dylib'If you don't plan on using image functionality from `torchvision.io`, you can ignore this warning. Otherwise, there might be something wrong with your environment. Did you have `libjpeg` or `libpng` installed before building `torchvision` from source?\n",
      "  warn(\n"
     ]
    }
   ],
   "execution_count": 2
  },
  {
   "metadata": {
    "ExecuteTime": {
     "end_time": "2025-01-08T23:07:29.501729Z",
     "start_time": "2025-01-08T23:07:29.478685Z"
    }
   },
   "cell_type": "code",
   "source": [
    "class IVSN(nn.Module):\n",
    "  def __init__(self, model):\n",
    "      super(IVSN, self).__init__()\n",
    "      self.features = nn.Sequential(*list(model.children())[0][:30])\n",
    "      for param in self.features.parameters():\n",
    "        param.requires_grad_ = False\n",
    "\n",
    "  def forward(self, x):\n",
    "      x = self.features(x)\n",
    "      return x\n",
    "\n",
    "ConvSize, NumTemplates, Mylayer = 1, 512, 31\n",
    "TotalTrials, targetsize, stimulisize = 600, (156, 156), (676, 756)\n",
    "MMconv = Conv2d(NumTemplates, 1, kernel_size = (ConvSize, ConvSize), stride = (1, 1), padding = (1, 1))\n",
    "# 512 input channels, 1 output channel, 1x1 kernel, stride 1, padding 1"
   ],
   "id": "79966eee599244ea",
   "outputs": [],
   "execution_count": 3
  },
  {
   "metadata": {
    "ExecuteTime": {
     "end_time": "2025-01-08T23:07:30.130700Z",
     "start_time": "2025-01-08T23:07:30.128644Z"
    }
   },
   "cell_type": "code",
   "source": "",
   "id": "3a6e4d64abba092e",
   "outputs": [],
   "execution_count": null
  },
  {
   "metadata": {
    "ExecuteTime": {
     "end_time": "2025-01-08T23:07:31.348027Z",
     "start_time": "2025-01-08T23:07:30.432838Z"
    }
   },
   "cell_type": "code",
   "source": [
    "from torchvision.models import VGG16_Weights\n",
    "\n",
    "model_vgg = torch.hub.load('pytorch/vision:v0.10.0', 'vgg16', weights=VGG16_Weights.DEFAULT)\n",
    "model_ivsn = IVSN(model_vgg)\n",
    "model_ivsn"
   ],
   "id": "7060e199134da947",
   "outputs": [
    {
     "name": "stderr",
     "output_type": "stream",
     "text": [
      "Using cache found in /Users/ishaan/.cache/torch/hub/pytorch_vision_v0.10.0\n"
     ]
    },
    {
     "data": {
      "text/plain": [
       "IVSN(\n",
       "  (features): Sequential(\n",
       "    (0): Conv2d(3, 64, kernel_size=(3, 3), stride=(1, 1), padding=(1, 1))\n",
       "    (1): ReLU(inplace=True)\n",
       "    (2): Conv2d(64, 64, kernel_size=(3, 3), stride=(1, 1), padding=(1, 1))\n",
       "    (3): ReLU(inplace=True)\n",
       "    (4): MaxPool2d(kernel_size=2, stride=2, padding=0, dilation=1, ceil_mode=False)\n",
       "    (5): Conv2d(64, 128, kernel_size=(3, 3), stride=(1, 1), padding=(1, 1))\n",
       "    (6): ReLU(inplace=True)\n",
       "    (7): Conv2d(128, 128, kernel_size=(3, 3), stride=(1, 1), padding=(1, 1))\n",
       "    (8): ReLU(inplace=True)\n",
       "    (9): MaxPool2d(kernel_size=2, stride=2, padding=0, dilation=1, ceil_mode=False)\n",
       "    (10): Conv2d(128, 256, kernel_size=(3, 3), stride=(1, 1), padding=(1, 1))\n",
       "    (11): ReLU(inplace=True)\n",
       "    (12): Conv2d(256, 256, kernel_size=(3, 3), stride=(1, 1), padding=(1, 1))\n",
       "    (13): ReLU(inplace=True)\n",
       "    (14): Conv2d(256, 256, kernel_size=(3, 3), stride=(1, 1), padding=(1, 1))\n",
       "    (15): ReLU(inplace=True)\n",
       "    (16): MaxPool2d(kernel_size=2, stride=2, padding=0, dilation=1, ceil_mode=False)\n",
       "    (17): Conv2d(256, 512, kernel_size=(3, 3), stride=(1, 1), padding=(1, 1))\n",
       "    (18): ReLU(inplace=True)\n",
       "    (19): Conv2d(512, 512, kernel_size=(3, 3), stride=(1, 1), padding=(1, 1))\n",
       "    (20): ReLU(inplace=True)\n",
       "    (21): Conv2d(512, 512, kernel_size=(3, 3), stride=(1, 1), padding=(1, 1))\n",
       "    (22): ReLU(inplace=True)\n",
       "    (23): MaxPool2d(kernel_size=2, stride=2, padding=0, dilation=1, ceil_mode=False)\n",
       "    (24): Conv2d(512, 512, kernel_size=(3, 3), stride=(1, 1), padding=(1, 1))\n",
       "    (25): ReLU(inplace=True)\n",
       "    (26): Conv2d(512, 512, kernel_size=(3, 3), stride=(1, 1), padding=(1, 1))\n",
       "    (27): ReLU(inplace=True)\n",
       "    (28): Conv2d(512, 512, kernel_size=(3, 3), stride=(1, 1), padding=(1, 1))\n",
       "    (29): ReLU(inplace=True)\n",
       "  )\n",
       ")"
      ]
     },
     "execution_count": 4,
     "metadata": {},
     "output_type": "execute_result"
    }
   ],
   "execution_count": 4
  },
  {
   "metadata": {
    "ExecuteTime": {
     "end_time": "2025-01-08T23:07:31.915193Z",
     "start_time": "2025-01-08T23:07:31.414228Z"
    }
   },
   "cell_type": "code",
   "source": [
    "import importlib\n",
    "import arrayDataset\n",
    "import matplotlib.pyplot as plt\n",
    "importlib.reload(arrayDataset)\n",
    "\n",
    "input_images = arrayDataset.ArrayDataset('data/array/gt_positions.csv', 'data/array/stimuli', 'data/array/target', target_size=targetsize, normalize_means=[0.485, 0.456, 0.406], normalize_stds=[0.229, 0.224, 0.225])\n",
    "\n",
    "#plt.imshow(input_images[0][0].numpy()[0]) #stimuli 676 x 756\n",
    "#plt.imshow(input_images[0][1].numpy()[0]) #target 156 x 156"
   ],
   "id": "c233007e33ccda4b",
   "outputs": [],
   "execution_count": 5
  },
  {
   "metadata": {
    "ExecuteTime": {
     "end_time": "2025-01-08T23:07:32.422320Z",
     "start_time": "2025-01-08T23:07:32.396610Z"
    }
   },
   "cell_type": "code",
   "source": [
    "import importlib\n",
    "from utils import arraySearchProcesswithPath"
   ],
   "id": "4cdc86b0f3c2661d",
   "outputs": [],
   "execution_count": 6
  },
  {
   "metadata": {
    "ExecuteTime": {
     "end_time": "2025-01-08T23:18:12.212784Z",
     "start_time": "2025-01-08T23:18:11.223075Z"
    }
   },
   "cell_type": "code",
   "source": [
    "import torch\n",
    "from tqdm import trange\n",
    "from utils import arraySearchProcesswithPath\n",
    "\n",
    "num_pics = len(input_images) #600 images\n",
    "IVSN_attention_map, scanpath = {}, {}\n",
    "IVSN_res = list()\n",
    "\n",
    "with torch.no_grad():\n",
    "    for id in range(1):\n",
    "        stimuli_img, target_img, gpos = input_images[id]\n",
    "        #Need 3 channels:\n",
    "        if stimuli_img.shape[0] == 1:\n",
    "            stimuli_img = torch.cat((stimuli_img, stimuli_img, stimuli_img), 0)\n",
    "        if target_img.shape[0] == 1:\n",
    "            target_img = torch.cat((target_img, target_img, target_img), 0)\n",
    "        \n",
    "        \n",
    "        stimuli_batch = stimuli_img.unsqueeze(0) #(1, 3, 756, 676)\n",
    "        target_batch = target_img.unsqueeze(0) #(1, 3, 156, 156)\n",
    "        \n",
    "        # Get the output from the model after going through all 30 layers\n",
    "        stimuli_output = model_ivsn(stimuli_batch) #(1, 512, 47, 42)\n",
    "        target_output = model_ivsn(target_batch) #(1, 512, 9, 9)    \n",
    "        \n",
    "        # Update MMconv weights with target output\n",
    "        MMconv.weight = torch.nn.Parameter(target_output)\n",
    "        \n",
    "        # Get the attention map by applying MMconv to stimuli_output\n",
    "        attention_IVSN = MMconv(stimuli_output) #(1, 1, 41, 36)\n",
    "        attention_IVSN = attention_IVSN.squeeze(0)  #(1, 41, 36)\n",
    "                \n",
    "        # Normalize the attention map\n",
    "        mask_IVSN = transforms.Resize((stimuli_img.shape[1], stimuli_img.shape[2]))(attention_IVSN)\n",
    "        mask_IVSN = mask_IVSN.squeeze(0) #(756, 676)\n",
    "        mask_IVSN = torch.divide(mask_IVSN, mask_IVSN.max()) # (756, 676)\n",
    "                        \n",
    "        IVSN_attention_map[id] = mask_IVSN.clone().detach() #create deepcopy\n",
    "        \n",
    "        IVSN_num, path = arraySearchProcesswithPath(mask_IVSN, gpos)\n",
    "        scanpath[id] = path\n",
    "        IVSN_res.append(IVSN_num)\n",
    "        \n",
    "\n",
    "print(IVSN_res)\n",
    "\n"
   ],
   "id": "1ea4058abfec3252",
   "outputs": [
    {
     "name": "stdout",
     "output_type": "stream",
     "text": [
      "max value in attentionMap 1.0\n",
      "searching at (0, 562)\n",
      "max value in attentionMap 0.98810196\n",
      "searching at (309, 728)\n",
      "max value in attentionMap 0.9405231\n",
      "searching at (22, 562)\n",
      "[3]\n"
     ]
    }
   ],
   "execution_count": 17
  },
  {
   "metadata": {
    "ExecuteTime": {
     "end_time": "2025-01-08T22:47:20.623120Z",
     "start_time": "2025-01-08T22:47:20.618391Z"
    }
   },
   "cell_type": "code",
   "source": "IVSN_attention_map[0].shape",
   "id": "f3735c7ca7285892",
   "outputs": [
    {
     "data": {
      "text/plain": [
       "torch.Size([1, 756, 676])"
      ]
     },
     "execution_count": 48,
     "metadata": {},
     "output_type": "execute_result"
    }
   ],
   "execution_count": 48
  },
  {
   "metadata": {
    "ExecuteTime": {
     "end_time": "2024-12-04T21:54:26.337338Z",
     "start_time": "2024-12-04T21:54:26.335358Z"
    }
   },
   "cell_type": "code",
   "source": "",
   "id": "a5b9ab0d4f1d66cc",
   "outputs": [],
   "execution_count": null
  },
  {
   "metadata": {},
   "cell_type": "code",
   "outputs": [],
   "execution_count": null,
   "source": "",
   "id": "ef2a45d4eeb0ca4d"
  }
 ],
 "metadata": {
  "kernelspec": {
   "display_name": "Python 3",
   "language": "python",
   "name": "python3"
  },
  "language_info": {
   "codemirror_mode": {
    "name": "ipython",
    "version": 2
   },
   "file_extension": ".py",
   "mimetype": "text/x-python",
   "name": "python",
   "nbconvert_exporter": "python",
   "pygments_lexer": "ipython2",
   "version": "2.7.6"
  }
 },
 "nbformat": 4,
 "nbformat_minor": 5
}
