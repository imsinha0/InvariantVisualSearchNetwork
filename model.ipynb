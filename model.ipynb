{
 "cells": [
  {
   "metadata": {
    "ExecuteTime": {
     "end_time": "2025-01-08T20:58:00.607709Z",
     "start_time": "2025-01-08T20:58:00.573659Z"
    }
   },
   "cell_type": "code",
   "source": [
    "import torch\n",
    "import torch.nn as nn\n",
    "from torch.nn.modules.conv import Conv2d\n",
    "from torchvision import transforms\n",
    "\n",
    "from tqdm import tqdm, trange"
   ],
   "id": "eeccea6b8fa67324",
   "outputs": [],
   "execution_count": 7
  },
  {
   "metadata": {
    "ExecuteTime": {
     "end_time": "2025-01-08T20:58:02.031495Z",
     "start_time": "2025-01-08T20:58:01.996954Z"
    }
   },
   "cell_type": "code",
   "source": [
    "class IVSN(nn.Module):\n",
    "  def __init__(self, model):\n",
    "      super(IVSN, self).__init__()\n",
    "      self.features = nn.Sequential(*list(model.children())[0][:30])\n",
    "      for param in self.features.parameters():\n",
    "        param.requires_grad_ = False\n",
    "\n",
    "  def forward(self, x):\n",
    "      x = self.features(x)\n",
    "      return x\n",
    "\n",
    "ConvSize, NumTemplates, Mylayer = 1, 512, 31\n",
    "TotalTrials, targetsize, stimulisize = 600, (156, 156), (676, 756)\n",
    "MMconv = Conv2d(NumTemplates, 1, kernel_size = (ConvSize, ConvSize), stride = (1, 1), padding = (1, 1))\n",
    "# 512 input channels, 1 output channel, 1x1 kernel, stride 1, padding 1"
   ],
   "id": "79966eee599244ea",
   "outputs": [],
   "execution_count": 8
  },
  {
   "metadata": {
    "ExecuteTime": {
     "end_time": "2025-01-08T21:19:01.537242Z",
     "start_time": "2025-01-08T21:19:01.533647Z"
    }
   },
   "cell_type": "code",
   "source": "",
   "id": "3a6e4d64abba092e",
   "outputs": [
    {
     "name": "stdout",
     "output_type": "stream",
     "text": [
      "(1, 1)\n"
     ]
    }
   ],
   "execution_count": 14
  },
  {
   "metadata": {
    "ExecuteTime": {
     "end_time": "2025-01-08T21:22:52.812776Z",
     "start_time": "2025-01-08T21:22:51.860980Z"
    }
   },
   "cell_type": "code",
   "source": [
    "from torchvision.models import VGG16_Weights\n",
    "\n",
    "model_vgg = torch.hub.load('pytorch/vision:v0.10.0', 'vgg16', weights=VGG16_Weights.DEFAULT)\n",
    "model_ivsn = IVSN(model_vgg)\n",
    "model_ivsn"
   ],
   "id": "7060e199134da947",
   "outputs": [
    {
     "name": "stderr",
     "output_type": "stream",
     "text": [
      "Using cache found in /Users/ishaan/.cache/torch/hub/pytorch_vision_v0.10.0\n"
     ]
    },
    {
     "data": {
      "text/plain": [
       "IVSN(\n",
       "  (features): Sequential(\n",
       "    (0): Conv2d(3, 64, kernel_size=(3, 3), stride=(1, 1), padding=(1, 1))\n",
       "    (1): ReLU(inplace=True)\n",
       "    (2): Conv2d(64, 64, kernel_size=(3, 3), stride=(1, 1), padding=(1, 1))\n",
       "    (3): ReLU(inplace=True)\n",
       "    (4): MaxPool2d(kernel_size=2, stride=2, padding=0, dilation=1, ceil_mode=False)\n",
       "    (5): Conv2d(64, 128, kernel_size=(3, 3), stride=(1, 1), padding=(1, 1))\n",
       "    (6): ReLU(inplace=True)\n",
       "    (7): Conv2d(128, 128, kernel_size=(3, 3), stride=(1, 1), padding=(1, 1))\n",
       "    (8): ReLU(inplace=True)\n",
       "    (9): MaxPool2d(kernel_size=2, stride=2, padding=0, dilation=1, ceil_mode=False)\n",
       "    (10): Conv2d(128, 256, kernel_size=(3, 3), stride=(1, 1), padding=(1, 1))\n",
       "    (11): ReLU(inplace=True)\n",
       "    (12): Conv2d(256, 256, kernel_size=(3, 3), stride=(1, 1), padding=(1, 1))\n",
       "    (13): ReLU(inplace=True)\n",
       "    (14): Conv2d(256, 256, kernel_size=(3, 3), stride=(1, 1), padding=(1, 1))\n",
       "    (15): ReLU(inplace=True)\n",
       "    (16): MaxPool2d(kernel_size=2, stride=2, padding=0, dilation=1, ceil_mode=False)\n",
       "    (17): Conv2d(256, 512, kernel_size=(3, 3), stride=(1, 1), padding=(1, 1))\n",
       "    (18): ReLU(inplace=True)\n",
       "    (19): Conv2d(512, 512, kernel_size=(3, 3), stride=(1, 1), padding=(1, 1))\n",
       "    (20): ReLU(inplace=True)\n",
       "    (21): Conv2d(512, 512, kernel_size=(3, 3), stride=(1, 1), padding=(1, 1))\n",
       "    (22): ReLU(inplace=True)\n",
       "    (23): MaxPool2d(kernel_size=2, stride=2, padding=0, dilation=1, ceil_mode=False)\n",
       "    (24): Conv2d(512, 512, kernel_size=(3, 3), stride=(1, 1), padding=(1, 1))\n",
       "    (25): ReLU(inplace=True)\n",
       "    (26): Conv2d(512, 512, kernel_size=(3, 3), stride=(1, 1), padding=(1, 1))\n",
       "    (27): ReLU(inplace=True)\n",
       "    (28): Conv2d(512, 512, kernel_size=(3, 3), stride=(1, 1), padding=(1, 1))\n",
       "    (29): ReLU(inplace=True)\n",
       "  )\n",
       ")"
      ]
     },
     "execution_count": 15,
     "metadata": {},
     "output_type": "execute_result"
    }
   ],
   "execution_count": 15
  },
  {
   "metadata": {
    "ExecuteTime": {
     "end_time": "2025-01-08T21:29:49.607353Z",
     "start_time": "2025-01-08T21:29:49.600743Z"
    }
   },
   "cell_type": "code",
   "source": [
    "import importlib\n",
    "import arrayDataset\n",
    "import matplotlib.pyplot as plt\n",
    "importlib.reload(arrayDataset)\n",
    "\n",
    "input_images = arrayDataset.ArrayDataset('data/array/gt_positions.csv', 'data/array/stimuli', 'data/array/target', target_size=targetsize, normalize_means=[0.485, 0.456, 0.406], normalize_stds=[0.229, 0.224, 0.225])\n",
    "\n",
    "#plt.imshow(input_images[0][0].numpy()[0]) #stimuli 676 x 756\n",
    "#plt.imshow(input_images[0][1].numpy()[0]) #target 156 x 156"
   ],
   "id": "c233007e33ccda4b",
   "outputs": [],
   "execution_count": 27
  },
  {
   "metadata": {
    "ExecuteTime": {
     "end_time": "2025-01-08T22:38:48.117276Z",
     "start_time": "2025-01-08T22:38:47.055601Z"
    }
   },
   "cell_type": "code",
   "source": [
    "import torch\n",
    "from tqdm import trange\n",
    "from utils import arraySearchProcesswithPath\n",
    "\n",
    "num_pics = len(input_images) #600 images\n",
    "IVSN_attention_map, scanpath = {}, {}\n",
    "IVSN_res = list()\n",
    "\n",
    "with torch.no_grad():\n",
    "    for id in range(1):\n",
    "        stimuli_img, target_img, gpos = input_images[id]\n",
    "        #Need 3 channels:\n",
    "        if stimuli_img.shape[0] == 1:\n",
    "            stimuli_img = torch.cat((stimuli_img, stimuli_img, stimuli_img), 0)\n",
    "        if target_img.shape[0] == 1:\n",
    "            target_img = torch.cat((target_img, target_img, target_img), 0)\n",
    "        \n",
    "        \n",
    "        stimuli_batch = stimuli_img.unsqueeze(0) #(1, 3, 756, 676)\n",
    "        target_batch = target_img.unsqueeze(0) #(1, 3, 156, 156)\n",
    "        \n",
    "        # Get the output from the model after going through all 30 layers\n",
    "        stimuli_output = model_ivsn(stimuli_batch) #(1, 512, 47, 42)\n",
    "        target_output = model_ivsn(target_batch) #(1, 512, 9, 9)    \n",
    "        \n",
    "        # Update MMconv weights with target output\n",
    "        MMconv.weight = torch.nn.Parameter(target_output)\n",
    "        \n",
    "        # Get the attention map by applying MMconv to stimuli_output\n",
    "        attention_IVSN = MMconv(stimuli_output) #(1, 1, 41, 36)\n",
    "        attention_IVSN = attention_IVSN.squeeze(0)  #(1, 41, 36)\n",
    "                \n",
    "        # Normalize the attention map\n",
    "        mask_IVSN = transforms.Resize((stimuli_img.shape[1], stimuli_img.shape[2]))(attention_IVSN)\n",
    "        mask_IVSN = torch.divide(mask_IVSN, mask_IVSN.max()) # (1, 756, 676)\n",
    "        \n",
    "        IVSN_attention_map[id] = mask_IVSN.clone().detach() #create deepcopy\n",
    "                \n",
    "        IVSN_num, path = arraySearchProcesswithPath(mask_IVSN, gpos)\n",
    "        scanpath[id] = path\n",
    "        IVSN_res.append(IVSN_num)\n",
    "\n",
    "print(IVSN_res)\n",
    "\n"
   ],
   "id": "1ea4058abfec3252",
   "outputs": [
    {
     "name": "stdout",
     "output_type": "stream",
     "text": [
      "torch.Size([1, 756, 676])\n"
     ]
    },
    {
     "ename": "TypeError",
     "evalue": "unsupported operand type(s) for -: 'Tensor' and 'tuple'",
     "output_type": "error",
     "traceback": [
      "\u001B[0;31m---------------------------------------------------------------------------\u001B[0m",
      "\u001B[0;31mTypeError\u001B[0m                                 Traceback (most recent call last)",
      "Cell \u001B[0;32mIn[43], line 41\u001B[0m\n\u001B[1;32m     37\u001B[0m IVSN_attention_map[\u001B[38;5;28mid\u001B[39m] \u001B[38;5;241m=\u001B[39m mask_IVSN\u001B[38;5;241m.\u001B[39mclone()\u001B[38;5;241m.\u001B[39mdetach() \u001B[38;5;66;03m#create deepcopy\u001B[39;00m\n\u001B[1;32m     39\u001B[0m \u001B[38;5;28mprint\u001B[39m(mask_IVSN\u001B[38;5;241m.\u001B[39mshape)\n\u001B[0;32m---> 41\u001B[0m IVSN_num, path \u001B[38;5;241m=\u001B[39m \u001B[43marraySearchProcesswithPath\u001B[49m\u001B[43m(\u001B[49m\u001B[43mmask_IVSN\u001B[49m\u001B[43m,\u001B[49m\u001B[43m \u001B[49m\u001B[43mgpos\u001B[49m\u001B[43m)\u001B[49m\n\u001B[1;32m     42\u001B[0m scanpath[\u001B[38;5;28mid\u001B[39m] \u001B[38;5;241m=\u001B[39m path\n\u001B[1;32m     43\u001B[0m IVSN_res\u001B[38;5;241m.\u001B[39mappend(IVSN_num)\n",
      "File \u001B[0;32m~/CS/Research/InvariantVisualSearchNetwork/utils.py:24\u001B[0m, in \u001B[0;36marraySearchProcesswithPath\u001B[0;34m(attentionMap, gtpos)\u001B[0m\n\u001B[1;32m     21\u001B[0m maxPoint \u001B[38;5;241m=\u001B[39m torch\u001B[38;5;241m.\u001B[39margmax(attentionMap)\n\u001B[1;32m     22\u001B[0m searchPath\u001B[38;5;241m.\u001B[39mappend(maxPoint)\n\u001B[0;32m---> 24\u001B[0m \u001B[38;5;28;01mif\u001B[39;00m \u001B[43mdistance\u001B[49m\u001B[43m(\u001B[49m\u001B[43mmaxPoint\u001B[49m\u001B[43m,\u001B[49m\u001B[43m \u001B[49m\u001B[43mimage_positions\u001B[49m\u001B[43m[\u001B[49m\u001B[43mgtpos\u001B[49m\u001B[43m]\u001B[49m\u001B[43m)\u001B[49m \u001B[38;5;241m<\u001B[39m\u001B[38;5;241m=\u001B[39m \u001B[38;5;241m45\u001B[39m:\n\u001B[1;32m     25\u001B[0m     found \u001B[38;5;241m=\u001B[39m \u001B[38;5;28;01mTrue\u001B[39;00m\n\u001B[1;32m     26\u001B[0m \u001B[38;5;28;01melse\u001B[39;00m:\n\u001B[1;32m     27\u001B[0m     \u001B[38;5;66;03m#set attentionMap to 0 in 45x45 region around maxPoint\u001B[39;00m\n",
      "File \u001B[0;32m~/CS/Research/InvariantVisualSearchNetwork/utils.py:10\u001B[0m, in \u001B[0;36mdistance\u001B[0;34m(p1, p2)\u001B[0m\n\u001B[1;32m      9\u001B[0m \u001B[38;5;28;01mdef\u001B[39;00m \u001B[38;5;21mdistance\u001B[39m(p1, p2):\n\u001B[0;32m---> 10\u001B[0m     \u001B[38;5;28;01mreturn\u001B[39;00m np\u001B[38;5;241m.\u001B[39mmax(np\u001B[38;5;241m.\u001B[39mabs(\u001B[43mp1\u001B[49m\u001B[38;5;241;43m-\u001B[39;49m\u001B[43mp2\u001B[49m))\n",
      "\u001B[0;31mTypeError\u001B[0m: unsupported operand type(s) for -: 'Tensor' and 'tuple'"
     ]
    }
   ],
   "execution_count": 43
  },
  {
   "metadata": {
    "ExecuteTime": {
     "end_time": "2025-01-08T04:30:18.921861Z",
     "start_time": "2025-01-08T04:30:18.918567Z"
    }
   },
   "cell_type": "code",
   "source": "IVSN_attention_map[0].shape",
   "id": "f3735c7ca7285892",
   "outputs": [
    {
     "data": {
      "text/plain": [
       "torch.Size([1, 41, 36])"
      ]
     },
     "execution_count": 6,
     "metadata": {},
     "output_type": "execute_result"
    }
   ],
   "execution_count": 6
  },
  {
   "metadata": {
    "ExecuteTime": {
     "end_time": "2024-12-04T21:54:26.337338Z",
     "start_time": "2024-12-04T21:54:26.335358Z"
    }
   },
   "cell_type": "code",
   "source": "",
   "id": "a5b9ab0d4f1d66cc",
   "outputs": [],
   "execution_count": null
  },
  {
   "metadata": {},
   "cell_type": "code",
   "outputs": [],
   "execution_count": null,
   "source": "",
   "id": "ef2a45d4eeb0ca4d"
  }
 ],
 "metadata": {
  "kernelspec": {
   "display_name": "Python 3",
   "language": "python",
   "name": "python3"
  },
  "language_info": {
   "codemirror_mode": {
    "name": "ipython",
    "version": 2
   },
   "file_extension": ".py",
   "mimetype": "text/x-python",
   "name": "python",
   "nbconvert_exporter": "python",
   "pygments_lexer": "ipython2",
   "version": "2.7.6"
  }
 },
 "nbformat": 4,
 "nbformat_minor": 5
}
